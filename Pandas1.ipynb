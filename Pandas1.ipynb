{
 "cells": [
  {
   "cell_type": "code",
   "execution_count": 1,
   "metadata": {},
   "outputs": [
    {
     "name": "stdout",
     "output_type": "stream",
     "text": [
      "Pandas está listo para usarse, versión: 2.2.2\n"
     ]
    }
   ],
   "source": [
    "import pandas as pd\n",
    "print(\"Pandas está listo para usarse, versión:\", pd.__version__) "
   ]
  },
  {
   "cell_type": "markdown",
   "metadata": {},
   "source": [
    "### Ejercicio 1\n",
    "#### Crear y visualizar un arreglo unidimensional como una estructura Series."
   ]
  },
  {
   "cell_type": "code",
   "execution_count": 2,
   "metadata": {},
   "outputs": [
    {
     "data": {
      "text/plain": [
       "Camiseta       50\n",
       "Pantalones     35\n",
       "Zapatos       120\n",
       "dtype: int64"
      ]
     },
     "execution_count": 2,
     "metadata": {},
     "output_type": "execute_result"
    }
   ],
   "source": [
    "outfitprecio = pd.Series([50, 35, 120], index = [\"Camiseta\", \"Pantalones\", \"Zapatos\"])\n",
    "outfitprecio"
   ]
  },
  {
   "cell_type": "markdown",
   "metadata": {},
   "source": [
    "### Ejercicio 2\n",
    "#### Convertir un objeto Series a una lista Python."
   ]
  },
  {
   "cell_type": "code",
   "execution_count": 3,
   "metadata": {},
   "outputs": [
    {
     "name": "stdout",
     "output_type": "stream",
     "text": [
      "[50, 35, 120]\n"
     ]
    }
   ],
   "source": [
    "lista_python = outfitprecio.to_list()\n",
    "print(lista_python)"
   ]
  },
  {
   "cell_type": "markdown",
   "metadata": {},
   "source": [
    "### Ejercicio 3\n",
    "#### Aplicar las operaciones aritméticas básicas (suma, resta, multiplicación y división) sobre objetos Series."
   ]
  },
  {
   "cell_type": "code",
   "execution_count": 15,
   "metadata": {},
   "outputs": [
    {
     "name": "stdout",
     "output_type": "stream",
     "text": [
      "Series originales: [1 2 3 4] [3 4 3 4]\n",
      "SUMA:\n",
      "[4 6 6 8]\n",
      "RESTA:\n",
      "[-2 -2  0  0]\n",
      "MULTIPLICACION:\n",
      "[ 3  8  9 16]\n",
      "DIVISION:\n",
      "[0.33333333 0.5        1.         1.        ]\n"
     ]
    }
   ],
   "source": [
    "serie1 = pd.Series([1, 2, 3, 4])\n",
    "serie2 = pd.Series([3, 4, 3, 4])\n",
    "print(\"Series originales:\",serie1.values,serie2.values)\n",
    "print(\"SUMA:\")\n",
    "#suma = serie1 + serie2\n",
    "suma = serie1.add(serie2)\n",
    "print(suma.values)\n",
    "print(\"RESTA:\")\n",
    "#resta = serie1 - serie2\n",
    "resta = serie1.sub(serie2)\n",
    "print(resta.values)\n",
    "print(\"MULTIPLICACION:\")\n",
    "#multi = serie1 * serie2\n",
    "multi = serie1.mul(serie2)\n",
    "print(multi.values)\n",
    "print(\"DIVISION:\")\n",
    "#divi = serie1 / serie2\n",
    "divi = serie1.div(serie2)\n",
    "print(divi.values)"
   ]
  },
  {
   "cell_type": "markdown",
   "metadata": {},
   "source": [
    "### Ejercicio 4\n",
    "#### Usar operadores relacionales para comparar objetos Series."
   ]
  },
  {
   "cell_type": "code",
   "execution_count": 30,
   "metadata": {},
   "outputs": [
    {
     "name": "stdout",
     "output_type": "stream",
     "text": [
      "Series originales: [ 2  3  4  5  6 20] [ 1  3  5 20  2  6]\n",
      "serie4a > serie4b:\n",
      "[ True False False False  True  True]\n",
      "serie4a >= serie4b:\n",
      "[ True  True False False  True  True]\n",
      "serie4a < serie4b:\n",
      "[False False  True  True False False]\n",
      "serie4a <= serie4b:\n",
      "[False  True  True  True False False]\n",
      "serie4a == serie4b:\n",
      "[False  True False False False False]\n",
      "serie4a != serie4b:\n",
      "[ True False  True  True  True  True]\n"
     ]
    }
   ],
   "source": [
    "serie4a = pd.Series([2,3,4,5,6,20])\n",
    "serie4b = pd.Series([1,3,5,20,2,6])\n",
    "print(\"Series originales:\",serie4a.values,serie4b.values)\n",
    "print(\"serie4a > serie4b:\")\n",
    "mayor_que = serie4a > serie4b\n",
    "#mayor_que = serie4a.gt(serie4b)\n",
    "print(mayor_que.values)\n",
    "print(\"serie4a >= serie4b:\")\n",
    "mayor_oiwa = serie4a >= serie4b\n",
    "#mayoroiwa_que = serie4a.ge(serie4b)\n",
    "print(mayor_oiwa.values)\n",
    "print(\"serie4a < serie4b:\")\n",
    "menor_que = serie4a < serie4b\n",
    "#menor_que = serie4a.lt(serie4b)\n",
    "print(menor_que.values)\n",
    "print(\"serie4a <= serie4b:\")\n",
    "menor_oiwa = serie4a <= serie4b\n",
    "#menor_oiwa = serie4a.le(serie4b)\n",
    "print(menor_oiwa.values)\n",
    "print(\"serie4a == serie4b:\")\n",
    "igual_que = serie4a == serie4b\n",
    "#igual_que = serie4a.eq(serie4b)\n",
    "print(igual_que.values)\n",
    "print(\"serie4a != serie4b:\")\n",
    "#diff_que = serie4a != serie4b\n",
    "diff_que = serie4a.ne(serie4b)\n",
    "print(diff_que.values)"
   ]
  },
  {
   "cell_type": "markdown",
   "metadata": {},
   "source": [
    "### Ejercicio 5\n",
    "#### Convertir un diccionario Python en un objeto Series."
   ]
  },
  {
   "cell_type": "code",
   "execution_count": 31,
   "metadata": {},
   "outputs": [
    {
     "data": {
      "text/plain": [
       "nombre       Domi\n",
       "edad           27\n",
       "ciudad    Sevilla\n",
       "dtype: object"
      ]
     },
     "execution_count": 31,
     "metadata": {},
     "output_type": "execute_result"
    }
   ],
   "source": [
    "personas = {\n",
    "    \"nombre\": \"Domi\",\n",
    "    \"edad\": 27,\n",
    "    \"ciudad\": \"Sevilla\"\n",
    "}\n",
    "\n",
    "seriedicc = pd.Series(personas)\n",
    "seriedicc"
   ]
  },
  {
   "cell_type": "markdown",
   "metadata": {},
   "source": [
    "### Ejercicio 6\n",
    "#### Convertir un arreglo NumPy en un objeto Series."
   ]
  },
  {
   "cell_type": "code",
   "execution_count": 35,
   "metadata": {},
   "outputs": [
    {
     "data": {
      "text/plain": [
       "0    1\n",
       "1    2\n",
       "2    3\n",
       "3    4\n",
       "4    5\n",
       "dtype: int64"
      ]
     },
     "execution_count": 35,
     "metadata": {},
     "output_type": "execute_result"
    }
   ],
   "source": [
    "import numpy as np\n",
    "arraynumpy = np.array([1,2,3,4,5])\n",
    "serienumpy = pd.Series(arraynumpy)\n",
    "serienumpy"
   ]
  },
  {
   "cell_type": "markdown",
   "metadata": {},
   "source": [
    "### Ejercicio 7\n",
    "#### Cambiar el tipo de datos de un objeto Series."
   ]
  },
  {
   "cell_type": "code",
   "execution_count": null,
   "metadata": {},
   "outputs": [
    {
     "name": "stdout",
     "output_type": "stream",
     "text": [
      "serie original: \n",
      " Lunes         1\n",
      "Martes       20\n",
      "Miercoles     4\n",
      "Jueves       80\n",
      "Viernes       6\n",
      "dtype: int64\n",
      "serie modificando el tipo: \n",
      " Lunes         1.0\n",
      "Martes       20.0\n",
      "Miercoles     4.0\n",
      "Jueves       80.0\n",
      "Viernes       6.0\n",
      "dtype: float64\n"
     ]
    }
   ],
   "source": [
    "serie7 = pd.Series([1,20,4,80,6], index=[\"Lunes\",\"Martes\",\"Miercoles\",\"Jueves\",\"Viernes\"])\n",
    "print(\"serie original:\",\"\\n\",serie7)\n",
    "serie7modificada = serie7.astype(float)\n",
    "print(\"serie modificando el tipo a float:\",\"\\n\",serie7modificada)"
   ]
  },
  {
   "cell_type": "markdown",
   "metadata": {},
   "source": [
    "### Ejercicio 8\n",
    "#### Convertir un objeto Series con múltiples listas en un único objeto Series.\n"
   ]
  },
  {
   "cell_type": "markdown",
   "metadata": {},
   "source": [
    "#### Punto de partida \n",
    "#### 0    [Colombia, Perú, Argentina]\n",
    "#### 1             [Bolivia, Uruguay]\n",
    "#### 2                        [Chile]\n",
    "####\n",
    "#### lista=[ [Colombia, Perú, Argentina], [Bolivia, Uruguay],  [Chile]]\n",
    "####\n",
    "#### Objetivo\n",
    "####\n",
    "#### 0     Colombia\n",
    "#### 1         Perú\n",
    "#### 2    Argentina\n",
    "#### 3      Bolivia\n",
    "#### 4      Uruguay\n",
    "#### 5        Chile\n",
    "#### dtype: object\n",
    "#### \n",
    "#### Serie=[ Colombia, Perú, Argentina, Bolivia, Uruguay, Chile]\n",
    "#### Pista: Buscar información sobre el método explode()"
   ]
  },
  {
   "cell_type": "code",
   "execution_count": 54,
   "metadata": {},
   "outputs": [
    {
     "data": {
      "text/plain": [
       "0     Colombia\n",
       "1         Perú\n",
       "2    Argentina\n",
       "3      Bolivia\n",
       "4      Uruguay\n",
       "5        Chile\n",
       "dtype: object"
      ]
     },
     "execution_count": 54,
     "metadata": {},
     "output_type": "execute_result"
    }
   ],
   "source": [
    "lista = pd.Series([[\"Colombia\",\"Perú\",\"Argentina\"],[\"Bolivia\",\"Uruguay\"],[\"Chile\"]])\n",
    "lista.explode().reset_index(drop=True)\n",
    "lista2 = lista.explode().reset_index(drop=True)\n",
    "lista2"
   ]
  },
  {
   "cell_type": "markdown",
   "metadata": {},
   "source": [
    "### Ejercicio 9\n",
    "#### Ordenar los valores de un objeto Series con el método sort_values."
   ]
  },
  {
   "cell_type": "code",
   "execution_count": 56,
   "metadata": {},
   "outputs": [
    {
     "name": "stdout",
     "output_type": "stream",
     "text": [
      "Serie original: \n",
      " 0     1\n",
      "1    43\n",
      "2     6\n",
      "3     7\n",
      "4     8\n",
      "5    20\n",
      "6     0\n",
      "dtype: int64\n",
      "Serie ordenada: \n",
      " 6     0\n",
      "0     1\n",
      "2     6\n",
      "3     7\n",
      "4     8\n",
      "5    20\n",
      "1    43\n",
      "dtype: int64\n"
     ]
    }
   ],
   "source": [
    "serie9 = pd.Series([1,43,6,7,8,20,0])\n",
    "print(\"Serie original:\",\"\\n\",serie9)\n",
    "print(\"Serie ordenada:\",\"\\n\",serie9.sort_values())"
   ]
  },
  {
   "cell_type": "markdown",
   "metadata": {},
   "source": [
    "### Ejercicio 10\n",
    "#### Agregar datos a un objeto Series existente."
   ]
  },
  {
   "cell_type": "code",
   "execution_count": 77,
   "metadata": {},
   "outputs": [
    {
     "name": "stdout",
     "output_type": "stream",
     "text": [
      "serie sin añadir nada \n",
      " 0    [2, 3, 4, 5]\n",
      "1    [4, 5, 6, 7]\n",
      "dtype: object\n",
      "serie con dos filas mas: \n",
      " 0     [2, 3, 4, 5]\n",
      "1     [4, 5, 6, 7]\n",
      "2    [4, 5, 10, 7]\n",
      "3                4\n",
      "dtype: object\n"
     ]
    }
   ],
   "source": [
    "serie10 = pd.Series([[2,3,4,5],[4,5,6,7]])\n",
    "print(\"serie sin añadir nada\",\"\\n\",serie10)\n",
    "serie10[(serie10.last_valid_index()+1)] = [4,5,10,7]\n",
    "serie10[(serie10.last_valid_index()+1)] = 4\n",
    "print(\"serie con dos filas mas:\",\"\\n\",serie10)\n",
    "#print(\"serie ordenada:\",\"\\n\",serie10.sort_values())"
   ]
  }
 ],
 "metadata": {
  "kernelspec": {
   "display_name": "base",
   "language": "python",
   "name": "python3"
  },
  "language_info": {
   "codemirror_mode": {
    "name": "ipython",
    "version": 3
   },
   "file_extension": ".py",
   "mimetype": "text/x-python",
   "name": "python",
   "nbconvert_exporter": "python",
   "pygments_lexer": "ipython3",
   "version": "3.12.4"
  }
 },
 "nbformat": 4,
 "nbformat_minor": 2
}
