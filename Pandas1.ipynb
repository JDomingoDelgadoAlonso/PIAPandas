{
 "cells": [
  {
   "cell_type": "code",
   "execution_count": 1,
   "metadata": {},
   "outputs": [
    {
     "name": "stdout",
     "output_type": "stream",
     "text": [
      "Pandas está listo para usarse, versión: 2.2.2\n"
     ]
    }
   ],
   "source": [
    "import pandas as pd\n",
    "print(\"Pandas está listo para usarse, versión:\", pd.__version__) "
   ]
  },
  {
   "cell_type": "markdown",
   "metadata": {},
   "source": [
    "### Ejercicio 1\n",
    "#### Crear y visualizar un arreglo unidimensional como una estructura Series."
   ]
  },
  {
   "cell_type": "code",
   "execution_count": 2,
   "metadata": {},
   "outputs": [
    {
     "data": {
      "text/plain": [
       "Camiseta       50\n",
       "Pantalones     35\n",
       "Zapatos       120\n",
       "dtype: int64"
      ]
     },
     "execution_count": 2,
     "metadata": {},
     "output_type": "execute_result"
    }
   ],
   "source": [
    "outfitprecio = pd.Series([50, 35, 120], index = [\"Camiseta\", \"Pantalones\", \"Zapatos\"])\n",
    "outfitprecio"
   ]
  },
  {
   "cell_type": "markdown",
   "metadata": {},
   "source": [
    "### Ejercicio 2\n",
    "#### Convertir un objeto Series a una lista Python."
   ]
  },
  {
   "cell_type": "code",
   "execution_count": 3,
   "metadata": {},
   "outputs": [
    {
     "name": "stdout",
     "output_type": "stream",
     "text": [
      "[50, 35, 120]\n"
     ]
    }
   ],
   "source": [
    "lista_python = outfitprecio.to_list()\n",
    "print(lista_python)"
   ]
  },
  {
   "cell_type": "markdown",
   "metadata": {},
   "source": [
    "### Ejercicio 3\n",
    "#### Aplicar las operaciones aritméticas básicas (suma, resta, multiplicación y división) sobre objetos Series."
   ]
  },
  {
   "cell_type": "code",
   "execution_count": 3,
   "metadata": {},
   "outputs": [
    {
     "name": "stdout",
     "output_type": "stream",
     "text": [
      "Series originales: [1 2 3 4] [3 4 3 4]\n",
      "SUMA:\n",
      "[4 6 6 8]\n",
      "RESTA:\n",
      "[-2 -2  0  0]\n",
      "MULTIPLICACION:\n",
      "[ 3  8  9 16]\n",
      "DIVISION:\n",
      "[0.33333333 0.5        1.         1.        ]\n"
     ]
    }
   ],
   "source": [
    "serie1 = pd.Series([1, 2, 3, 4])\n",
    "serie2 = pd.Series([3, 4, 3, 4])\n",
    "print(\"Series originales:\",serie1.values,serie2.values)\n",
    "print(\"SUMA:\")\n",
    "#suma = serie1 + serie2\n",
    "suma = serie1.add(serie2)\n",
    "print(suma.values)\n",
    "print(\"RESTA:\")\n",
    "#resta = serie1 - serie2\n",
    "resta = serie1.sub(serie2)\n",
    "print(resta.values)\n",
    "print(\"MULTIPLICACION:\")\n",
    "#multi = serie1 * serie2\n",
    "multi = serie1.mul(serie2)\n",
    "print(multi.values)\n",
    "print(\"DIVISION:\")\n",
    "#divi = serie1 / serie2\n",
    "divi = serie1.div(serie2)\n",
    "print(divi.values)"
   ]
  },
  {
   "cell_type": "markdown",
   "metadata": {},
   "source": [
    "### Ejercicio 4\n",
    "#### Usar operadores relacionales para comparar objetos Series."
   ]
  },
  {
   "cell_type": "code",
   "execution_count": 4,
   "metadata": {},
   "outputs": [
    {
     "name": "stdout",
     "output_type": "stream",
     "text": [
      "Series originales: [ 2  3  4  5  6 20] [ 1  3  5 20  2  6]\n",
      "serie4a > serie4b:\n",
      "[ True False False False  True  True]\n",
      "serie4a >= serie4b:\n",
      "[ True  True False False  True  True]\n",
      "serie4a < serie4b:\n",
      "[False False  True  True False False]\n",
      "serie4a <= serie4b:\n",
      "[False  True  True  True False False]\n",
      "serie4a == serie4b:\n",
      "[False  True False False False False]\n",
      "serie4a != serie4b:\n",
      "[ True False  True  True  True  True]\n"
     ]
    }
   ],
   "source": [
    "serie4a = pd.Series([2,3,4,5,6,20])\n",
    "serie4b = pd.Series([1,3,5,20,2,6])\n",
    "print(\"Series originales:\",serie4a.values,serie4b.values)\n",
    "print(\"serie4a > serie4b:\")\n",
    "mayor_que = serie4a > serie4b\n",
    "#mayor_que = serie4a.gt(serie4b)\n",
    "print(mayor_que.values)\n",
    "print(\"serie4a >= serie4b:\")\n",
    "mayor_oiwa = serie4a >= serie4b\n",
    "#mayoroiwa_que = serie4a.ge(serie4b)\n",
    "print(mayor_oiwa.values)\n",
    "print(\"serie4a < serie4b:\")\n",
    "menor_que = serie4a < serie4b\n",
    "#menor_que = serie4a.lt(serie4b)\n",
    "print(menor_que.values)\n",
    "print(\"serie4a <= serie4b:\")\n",
    "menor_oiwa = serie4a <= serie4b\n",
    "#menor_oiwa = serie4a.le(serie4b)\n",
    "print(menor_oiwa.values)\n",
    "print(\"serie4a == serie4b:\")\n",
    "igual_que = serie4a == serie4b\n",
    "#igual_que = serie4a.eq(serie4b)\n",
    "print(igual_que.values)\n",
    "print(\"serie4a != serie4b:\")\n",
    "#diff_que = serie4a != serie4b\n",
    "diff_que = serie4a.ne(serie4b)\n",
    "print(diff_que.values)"
   ]
  },
  {
   "cell_type": "markdown",
   "metadata": {},
   "source": [
    "### Ejercicio 5\n",
    "#### Convertir un diccionario Python en un objeto Series."
   ]
  },
  {
   "cell_type": "code",
   "execution_count": 5,
   "metadata": {},
   "outputs": [
    {
     "data": {
      "text/plain": [
       "nombre       Domi\n",
       "edad           27\n",
       "ciudad    Sevilla\n",
       "dtype: object"
      ]
     },
     "execution_count": 5,
     "metadata": {},
     "output_type": "execute_result"
    }
   ],
   "source": [
    "personas = {\n",
    "    \"nombre\": \"Domi\",\n",
    "    \"edad\": 27,\n",
    "    \"ciudad\": \"Sevilla\"\n",
    "}\n",
    "\n",
    "seriedicc = pd.Series(personas)\n",
    "seriedicc"
   ]
  },
  {
   "cell_type": "markdown",
   "metadata": {},
   "source": [
    "### Ejercicio 6\n",
    "#### Convertir un arreglo NumPy en un objeto Series."
   ]
  },
  {
   "cell_type": "code",
   "execution_count": 6,
   "metadata": {},
   "outputs": [
    {
     "data": {
      "text/plain": [
       "0    1\n",
       "1    2\n",
       "2    3\n",
       "3    4\n",
       "4    5\n",
       "dtype: int64"
      ]
     },
     "execution_count": 6,
     "metadata": {},
     "output_type": "execute_result"
    }
   ],
   "source": [
    "import numpy as np\n",
    "arraynumpy = np.array([1,2,3,4,5])\n",
    "serienumpy = pd.Series(arraynumpy)\n",
    "serienumpy"
   ]
  },
  {
   "cell_type": "markdown",
   "metadata": {},
   "source": [
    "### Ejercicio 7\n",
    "#### Cambiar el tipo de datos de un objeto Series."
   ]
  },
  {
   "cell_type": "code",
   "execution_count": 7,
   "metadata": {},
   "outputs": [
    {
     "name": "stdout",
     "output_type": "stream",
     "text": [
      "serie original: \n",
      " Lunes         1\n",
      "Martes       20\n",
      "Miercoles     4\n",
      "Jueves       80\n",
      "Viernes       6\n",
      "dtype: int64\n",
      "serie modificando el tipo a float: \n",
      " Lunes         1.0\n",
      "Martes       20.0\n",
      "Miercoles     4.0\n",
      "Jueves       80.0\n",
      "Viernes       6.0\n",
      "dtype: float64\n"
     ]
    }
   ],
   "source": [
    "serie7 = pd.Series([1,20,4,80,6], index=[\"Lunes\",\"Martes\",\"Miercoles\",\"Jueves\",\"Viernes\"])\n",
    "print(\"serie original:\",\"\\n\",serie7)\n",
    "serie7modificada = serie7.astype(float)\n",
    "print(\"serie modificando el tipo a float:\",\"\\n\",serie7modificada)"
   ]
  },
  {
   "cell_type": "markdown",
   "metadata": {},
   "source": [
    "### Ejercicio 8\n",
    "#### Convertir un objeto Series con múltiples listas en un único objeto Series.\n"
   ]
  },
  {
   "cell_type": "markdown",
   "metadata": {},
   "source": [
    "#### Punto de partida \n",
    "#### 0    [Colombia, Perú, Argentina]\n",
    "#### 1             [Bolivia, Uruguay]\n",
    "#### 2                        [Chile]\n",
    "####\n",
    "#### lista=[ [Colombia, Perú, Argentina], [Bolivia, Uruguay],  [Chile]]\n",
    "####\n",
    "#### Objetivo\n",
    "####\n",
    "#### 0     Colombia\n",
    "#### 1         Perú\n",
    "#### 2    Argentina\n",
    "#### 3      Bolivia\n",
    "#### 4      Uruguay\n",
    "#### 5        Chile\n",
    "#### dtype: object\n",
    "#### \n",
    "#### Serie=[ Colombia, Perú, Argentina, Bolivia, Uruguay, Chile]\n",
    "#### Pista: Buscar información sobre el método explode()"
   ]
  },
  {
   "cell_type": "code",
   "execution_count": 54,
   "metadata": {},
   "outputs": [
    {
     "data": {
      "text/plain": [
       "0     Colombia\n",
       "1         Perú\n",
       "2    Argentina\n",
       "3      Bolivia\n",
       "4      Uruguay\n",
       "5        Chile\n",
       "dtype: object"
      ]
     },
     "execution_count": 54,
     "metadata": {},
     "output_type": "execute_result"
    }
   ],
   "source": [
    "lista = pd.Series([[\"Colombia\",\"Perú\",\"Argentina\"],[\"Bolivia\",\"Uruguay\"],[\"Chile\"]])\n",
    "lista.explode().reset_index(drop=True)\n",
    "lista2 = lista.explode().reset_index(drop=True)\n",
    "lista2"
   ]
  },
  {
   "cell_type": "markdown",
   "metadata": {},
   "source": [
    "### Ejercicio 9\n",
    "#### Ordenar los valores de un objeto Series con el método sort_values."
   ]
  },
  {
   "cell_type": "code",
   "execution_count": 56,
   "metadata": {},
   "outputs": [
    {
     "name": "stdout",
     "output_type": "stream",
     "text": [
      "Serie original: \n",
      " 0     1\n",
      "1    43\n",
      "2     6\n",
      "3     7\n",
      "4     8\n",
      "5    20\n",
      "6     0\n",
      "dtype: int64\n",
      "Serie ordenada: \n",
      " 6     0\n",
      "0     1\n",
      "2     6\n",
      "3     7\n",
      "4     8\n",
      "5    20\n",
      "1    43\n",
      "dtype: int64\n"
     ]
    }
   ],
   "source": [
    "serie9 = pd.Series([1,43,6,7,8,20,0])\n",
    "print(\"Serie original:\",\"\\n\",serie9)\n",
    "print(\"Serie ordenada:\",\"\\n\",serie9.sort_values())"
   ]
  },
  {
   "cell_type": "markdown",
   "metadata": {},
   "source": [
    "### Ejercicio 10\n",
    "#### Agregar datos a un objeto Series existente."
   ]
  },
  {
   "cell_type": "code",
   "execution_count": 8,
   "metadata": {},
   "outputs": [
    {
     "name": "stdout",
     "output_type": "stream",
     "text": [
      "serie sin añadir nada \n",
      " 0    [2, 3, 4, 5]\n",
      "1    [4, 5, 6, 7]\n",
      "dtype: object\n",
      "serie con dos filas mas: \n",
      " 0     [2, 3, 4, 5]\n",
      "1     [4, 5, 6, 7]\n",
      "2    [4, 5, 10, 7]\n",
      "3                4\n",
      "dtype: object\n"
     ]
    }
   ],
   "source": [
    "serie10 = pd.Series([[2,3,4,5],[4,5,6,7]])\n",
    "print(\"serie sin añadir nada\",\"\\n\",serie10)\n",
    "serie10[(serie10.last_valid_index()+1)] = [4,5,10,7]\n",
    "serie10[(serie10.last_valid_index()+1)] = 4\n",
    "print(\"serie con dos filas mas:\",\"\\n\",serie10)\n",
    "#print(\"serie ordenada:\",\"\\n\",serie10.sort_values())"
   ]
  },
  {
   "cell_type": "markdown",
   "metadata": {},
   "source": [
    "### Ejercicio 11\n",
    "#### Crea un objeto Series a partir de un filtro aplicado a otro objeto Series."
   ]
  },
  {
   "cell_type": "code",
   "execution_count": 10,
   "metadata": {},
   "outputs": [
    {
     "name": "stdout",
     "output_type": "stream",
     "text": [
      "Ventas originales:\n",
      "Enero          150\n",
      "Febrero        200\n",
      "Marzo          250\n",
      "Abril          300\n",
      "Mayo           400\n",
      "Junio          350\n",
      "Julio          450\n",
      "Agosto         600\n",
      "Septiembre     700\n",
      "Octubre       1000\n",
      "dtype: int64\n",
      "\n",
      "Ventas mayores a 300:\n",
      "Mayo           400\n",
      "Junio          350\n",
      "Julio          450\n",
      "Agosto         600\n",
      "Septiembre     700\n",
      "Octubre       1000\n",
      "dtype: int64\n"
     ]
    }
   ],
   "source": [
    "ventas = pd.Series([150, 200, 250, 300, 400, 350, 450, 600, 700, 1000], index=['Enero', 'Febrero', 'Marzo', 'Abril', 'Mayo', 'Junio', 'Julio', 'Agosto', 'Septiembre', 'Octubre'])\n",
    "print(\"Ventas originales:\")\n",
    "print(ventas)\n",
    "ventas_mayores = ventas[ventas > 300]\n",
    "print(\"\\nVentas mayores a 300:\")\n",
    "print(ventas_mayores)"
   ]
  },
  {
   "cell_type": "markdown",
   "metadata": {},
   "source": [
    "### Ejercicio 12\n",
    "#### Cambiar el orden del índice de un objeto Series."
   ]
  },
  {
   "cell_type": "code",
   "execution_count": 11,
   "metadata": {},
   "outputs": [
    {
     "name": "stdout",
     "output_type": "stream",
     "text": [
      "Ventas originales:\n",
      "Enero          150\n",
      "Febrero        200\n",
      "Marzo          250\n",
      "Abril          300\n",
      "Mayo           400\n",
      "Junio          350\n",
      "Julio          450\n",
      "Agosto         600\n",
      "Septiembre     700\n",
      "Octubre       1000\n",
      "dtype: int64\n",
      "\n",
      "Ventas con nuevo orden de índice:\n",
      "Mayo       400\n",
      "Abril      300\n",
      "Marzo      250\n",
      "Febrero    200\n",
      "Enero      150\n",
      "dtype: int64\n"
     ]
    }
   ],
   "source": [
    "print(\"Ventas originales:\")\n",
    "print(ventas)\n",
    "nuevo_orden = ['Mayo', 'Abril', 'Marzo', 'Febrero', 'Enero']\n",
    "ventas_reordenadas = ventas.reindex(nuevo_orden)\n",
    "print(\"\\nVentas con nuevo orden de índice:\")\n",
    "print(ventas_reordenadas)"
   ]
  },
  {
   "cell_type": "markdown",
   "metadata": {},
   "source": [
    "### Ejercicio 13\n",
    "#### Obtener la desviación estándar y el promedio de un conjunto de datos de una serie."
   ]
  },
  {
   "cell_type": "code",
   "execution_count": 14,
   "metadata": {},
   "outputs": [
    {
     "name": "stdout",
     "output_type": "stream",
     "text": [
      "Desviacion estandar de ventaS: 261.19384032212974\n",
      "Promedio de ventas: 440.0\n"
     ]
    }
   ],
   "source": [
    "desviacion_estandar = ventas.std()\n",
    "print(\"Desviacion estandar de ventaS:\",desviacion_estandar)\n",
    "promedio = ventas.mean()\n",
    "print(\"Promedio de ventas:\",promedio)"
   ]
  },
  {
   "cell_type": "markdown",
   "metadata": {},
   "source": [
    "### Ejercicio 14\n",
    "#### Calcular los valores mínimo y máximo de un objeto Series."
   ]
  },
  {
   "cell_type": "code",
   "execution_count": 16,
   "metadata": {},
   "outputs": [
    {
     "name": "stdout",
     "output_type": "stream",
     "text": [
      "Valor mínimo de ventas: 150\n",
      "Valor maximo de ventas: 1000\n"
     ]
    }
   ],
   "source": [
    "valor_minimo = ventas.min()\n",
    "print(\"Valor mínimo de ventas:\",valor_minimo)\n",
    "valor_max= ventas.max()\n",
    "print(\"Valor maximo de ventas:\",valor_max)"
   ]
  },
  {
   "cell_type": "markdown",
   "metadata": {},
   "source": [
    "### Ejercicio 15\n",
    "#### Obtener estadísticas básicas de un objeto Series con el método describe."
   ]
  },
  {
   "cell_type": "code",
   "execution_count": 17,
   "metadata": {},
   "outputs": [
    {
     "name": "stdout",
     "output_type": "stream",
     "text": [
      "count      10.00000\n",
      "mean      440.00000\n",
      "std       261.19384\n",
      "min       150.00000\n",
      "25%       262.50000\n",
      "50%       375.00000\n",
      "75%       562.50000\n",
      "max      1000.00000\n",
      "dtype: float64\n"
     ]
    }
   ],
   "source": [
    "estadisticas_basicas = ventas.describe()\n",
    "print(estadisticas_basicas)"
   ]
  },
  {
   "cell_type": "markdown",
   "metadata": {},
   "source": [
    "### Ejercicio 16\n",
    "#### Obtener los elementos pares e impares de un objeto Series numérico."
   ]
  },
  {
   "cell_type": "code",
   "execution_count": 19,
   "metadata": {},
   "outputs": [
    {
     "name": "stdout",
     "output_type": "stream",
     "text": [
      "Elementos pares:\n",
      "Juan      10\n",
      "Gabri     22\n",
      "Godino     8\n",
      "Alex      12\n",
      "dtype: int64\n",
      "\n",
      "Elementos impares:\n",
      "Domi    15\n",
      "Javi     5\n",
      "dtype: int64\n"
     ]
    }
   ],
   "source": [
    "goles = pd.Series([10, 15, 22, 5, 8, 12], index=['Juan', 'Domi', 'Gabri', 'Javi', 'Godino', 'Alex'])\n",
    "pares = goles[goles % 2 == 0]\n",
    "impares = goles[goles % 2 != 0]\n",
    "\n",
    "print(\"Elementos pares:\")\n",
    "print(pares)\n",
    "\n",
    "print(\"\\nElementos impares:\")\n",
    "print(impares)"
   ]
  },
  {
   "cell_type": "markdown",
   "metadata": {},
   "source": [
    "### Ejercicio 17\n",
    "#### Extraer los datos de un objeto Series como un objeto NumPy."
   ]
  },
  {
   "cell_type": "code",
   "execution_count": 21,
   "metadata": {},
   "outputs": [
    {
     "name": "stdout",
     "output_type": "stream",
     "text": [
      "Datos de un objeto Series como un objeto NumPy:\n",
      "[10 15 22  5  8 12]\n"
     ]
    }
   ],
   "source": [
    "goles_numpy = goles.values\n",
    "print(\"Datos de un objeto Series como un objeto NumPy:\")\n",
    "print(goles_numpy)"
   ]
  },
  {
   "cell_type": "markdown",
   "metadata": {},
   "source": [
    "### Ejercicio 18\n",
    "#### Comprobar si una serie contiene valores NaN."
   ]
  },
  {
   "cell_type": "code",
   "execution_count": 27,
   "metadata": {},
   "outputs": [
    {
     "name": "stdout",
     "output_type": "stream",
     "text": [
      "La serie contiene valores NaN.\n"
     ]
    }
   ],
   "source": [
    "goles = pd.Series([10, 15, 22, 5, 8, 12], index=['Juan', 'Domi', 'Gabri', 'Javi', 'Godino', 'Alex'])\n",
    "goles2 = pd.Series([10, 15, 22, 5, 8, 12, np.NAN], index=['Juan', 'Domi', 'Gabri', 'Javi', 'Godino', 'Alex', 'Adrian'])\n",
    "contiene_nan = goles2.isna().any()\n",
    "if contiene_nan:\n",
    "    print(\"La serie contiene valores NaN.\")\n",
    "else:\n",
    "    print(\"La serie no contiene valores NaN.\")"
   ]
  },
  {
   "cell_type": "markdown",
   "metadata": {},
   "source": [
    "### Ejercicio 19\n",
    "#### Obtener el tamaño en bytes del espacio ocupado por los elementos de un objeto Series."
   ]
  },
  {
   "cell_type": "code",
   "execution_count": 29,
   "metadata": {},
   "outputs": [
    {
     "name": "stdout",
     "output_type": "stream",
     "text": [
      "Tamaño de la serie: 96 bytes\n"
     ]
    }
   ],
   "source": [
    "tamaño_bytes = goles.memory_usage()\n",
    "print(\"Tamaño de la serie:\", tamaño_bytes, \"bytes\")"
   ]
  },
  {
   "cell_type": "markdown",
   "metadata": {},
   "source": [
    "### Ejercicio 20\n",
    "#### Eliminar los valores NaN de una serie con el método dropna."
   ]
  },
  {
   "cell_type": "code",
   "execution_count": 32,
   "metadata": {},
   "outputs": [
    {
     "name": "stdout",
     "output_type": "stream",
     "text": [
      "Serie original:\n",
      "Juan      10.0\n",
      "Domi      15.0\n",
      "Gabri     22.0\n",
      "Javi       5.0\n",
      "Godino     8.0\n",
      "Alex      12.0\n",
      "Adrian     NaN\n",
      "dtype: float64\n",
      "\n",
      "\n",
      "Serie sin valores NaN:\n",
      "Juan      10.0\n",
      "Domi      15.0\n",
      "Gabri     22.0\n",
      "Javi       5.0\n",
      "Godino     8.0\n",
      "Alex      12.0\n",
      "dtype: float64\n"
     ]
    }
   ],
   "source": [
    "print(\"Serie original:\")\n",
    "print(goles2)\n",
    "goles_sin_nan = goles2.dropna()\n",
    "print(\"\\n\")\n",
    "print(\"Serie sin valores NaN:\")\n",
    "print(goles_sin_nan)"
   ]
  },
  {
   "cell_type": "markdown",
   "metadata": {},
   "source": [
    "### Ejercicio 21\n",
    "#### Calcular el valor absoluto de los elementos de un objeto Series."
   ]
  },
  {
   "cell_type": "code",
   "execution_count": 35,
   "metadata": {},
   "outputs": [
    {
     "name": "stdout",
     "output_type": "stream",
     "text": [
      "Serie original:\n",
      "Juan     -10\n",
      "Domi      15\n",
      "Gabri    -22\n",
      "Javi       5\n",
      "Godino    -8\n",
      "Alex      12\n",
      "dtype: int64\n",
      "\n",
      "Serie con valores absolutos:\n",
      "Juan      10\n",
      "Domi      15\n",
      "Gabri     22\n",
      "Javi       5\n",
      "Godino     8\n",
      "Alex      12\n",
      "dtype: int64\n"
     ]
    }
   ],
   "source": [
    "golesabs = pd.Series([-10, 15, -22, 5, -8, 12], index=['Juan', 'Domi', 'Gabri', 'Javi', 'Godino', 'Alex'])\n",
    "print(\"Serie original:\")\n",
    "print(golesabs)\n",
    "\n",
    "goles_absolutos = golesabs.abs()\n",
    "print(\"\\nSerie con valores absolutos:\")\n",
    "print(goles_absolutos)"
   ]
  },
  {
   "cell_type": "markdown",
   "metadata": {},
   "source": [
    "### Ejercicio 22\n",
    "#### Usar la función de agregación agg de un objeto Series."
   ]
  },
  {
   "cell_type": "code",
   "execution_count": 36,
   "metadata": {},
   "outputs": [
    {
     "name": "stdout",
     "output_type": "stream",
     "text": [
      "Serie original:\n",
      "Juan      10\n",
      "Domi      15\n",
      "Gabri     22\n",
      "Javi       5\n",
      "Godino     8\n",
      "Alex      12\n",
      "dtype: int64\n",
      "\n",
      "Resultados agg:\n",
      "sum     72.0\n",
      "mean    12.0\n",
      "max     22.0\n",
      "min      5.0\n",
      "dtype: float64\n"
     ]
    }
   ],
   "source": [
    "print(\"Serie original:\")\n",
    "print(goles)\n",
    "resultados_agregados = goles.agg(['sum', 'mean', 'max', 'min'])\n",
    "print(\"\\nResultados agg:\")\n",
    "print(resultados_agregados)"
   ]
  },
  {
   "cell_type": "markdown",
   "metadata": {},
   "source": [
    "### Ejercicio 23\n",
    "#### Reemplazar los valores NaN (null) de una serie con un valor arbitrario."
   ]
  },
  {
   "cell_type": "code",
   "execution_count": 41,
   "metadata": {},
   "outputs": [
    {
     "name": "stdout",
     "output_type": "stream",
     "text": [
      "Serie original: Juan      10.0\n",
      "Domi      15.0\n",
      "Gabri     22.0\n",
      "Javi       5.0\n",
      "Godino     8.0\n",
      "Alex      12.0\n",
      "Adrian     NaN\n",
      "dtype: float64\n",
      "\n",
      "Serie después de reemplazar NaN:\n",
      " Juan      10.0\n",
      "Domi      15.0\n",
      "Gabri     22.0\n",
      "Javi       5.0\n",
      "Godino     8.0\n",
      "Alex      12.0\n",
      "Adrian     0.0\n",
      "dtype: float64\n"
     ]
    }
   ],
   "source": [
    "print(\"Serie original:\",goles2)\n",
    "goles_nanrelleno = goles2.fillna(0)\n",
    "print(\"\\nSerie después de reemplazar NaN:\\n\",goles_nanrelleno)"
   ]
  },
  {
   "cell_type": "markdown",
   "metadata": {},
   "source": [
    "### Ejercicio 24\n",
    "#### Obtener los primeros y últimos n elementos de un objeto Series."
   ]
  },
  {
   "cell_type": "code",
   "execution_count": 45,
   "metadata": {},
   "outputs": [
    {
     "name": "stdout",
     "output_type": "stream",
     "text": [
      "Serie original:\n",
      "Juan      10\n",
      "Domi      15\n",
      "Gabri     22\n",
      "Javi       5\n",
      "Godino     8\n",
      "Alex      12\n",
      "dtype: int64\n",
      "\n",
      "\n",
      "Primeros 3 elementos:\n",
      " Juan     10\n",
      "Domi     15\n",
      "Gabri    22\n",
      "dtype: int64\n",
      "\n",
      "Últimos 3 elementos:\n",
      " Javi       5\n",
      "Godino     8\n",
      "Alex      12\n",
      "dtype: int64\n"
     ]
    }
   ],
   "source": [
    "print(\"Serie original:\")\n",
    "print(goles)\n",
    "print(\"\\n\")\n",
    "top3 = goles.head(3)\n",
    "ultimos3 = goles.tail(3)\n",
    "\n",
    "print(\"Primeros 3 elementos:\\n\",top3)\n",
    "print(\"\\nÚltimos 3 elementos:\\n\",ultimos3)"
   ]
  },
  {
   "cell_type": "markdown",
   "metadata": {},
   "source": [
    "### Ejercicio 25\n",
    "#### Reemplazar por un valor arbitrario los valores de una serie que no satisfagan una condición."
   ]
  },
  {
   "cell_type": "code",
   "execution_count": 48,
   "metadata": {},
   "outputs": [
    {
     "name": "stdout",
     "output_type": "stream",
     "text": [
      "Serie original:\n",
      "Juan      10\n",
      "Domi      15\n",
      "Gabri     22\n",
      "Javi       5\n",
      "Godino     8\n",
      "Alex      12\n",
      "dtype: int64\n",
      "\n",
      "Serie después de reemplazar los valores menores a 10 por 0:\n",
      "Juan      0\n",
      "Domi      0\n",
      "Gabri     0\n",
      "Javi      5\n",
      "Godino    8\n",
      "Alex      0\n",
      "dtype: int64\n"
     ]
    }
   ],
   "source": [
    "print(\"Serie original:\")\n",
    "print(goles)\n",
    "goles_reemplazados = goles.where(goles < 10, 0)\n",
    "print(\"\\nSerie después de reemplazar los valores menores a 10 por 0:\")\n",
    "print(goles_reemplazados)"
   ]
  },
  {
   "cell_type": "markdown",
   "metadata": {},
   "source": [
    "### Ejercicio 26\n",
    "#### Remover los valores que no cumplan una condición en un objeto Series."
   ]
  },
  {
   "cell_type": "code",
   "execution_count": 50,
   "metadata": {},
   "outputs": [
    {
     "name": "stdout",
     "output_type": "stream",
     "text": [
      "Serie original:\n",
      "Juan      10\n",
      "Domi      15\n",
      "Gabri     22\n",
      "Javi       5\n",
      "Godino     8\n",
      "Alex      12\n",
      "dtype: int64\n",
      "\n",
      "Serie después de remover los valores menores a 10:\n",
      "Juan     10\n",
      "Domi     15\n",
      "Gabri    22\n",
      "Alex     12\n",
      "dtype: int64\n"
     ]
    }
   ],
   "source": [
    "print(\"Serie original:\")\n",
    "print(goles)\n",
    "goles = goles[goles >= 10]\n",
    "print(\"\\nSerie después de remover los valores menores a 10:\")\n",
    "print(goles)"
   ]
  },
  {
   "cell_type": "markdown",
   "metadata": {},
   "source": [
    "### Ejercicio 27\n",
    "#### Contar los valores repetidos en una serie."
   ]
  },
  {
   "cell_type": "code",
   "execution_count": 52,
   "metadata": {},
   "outputs": [
    {
     "name": "stdout",
     "output_type": "stream",
     "text": [
      "Conteo de valores repetidos:\n",
      "10    1\n",
      "15    1\n",
      "22    1\n",
      "12    1\n",
      "Name: count, dtype: int64\n"
     ]
    }
   ],
   "source": [
    "goles3 = pd.Series([10, 15, 22, 10, 8, 12, 15, 0, 22, 10], index=['Juan', 'Domi', 'Gabri', 'Javi', 'Godino', 'Alex', 'Adrian', 'Luis', 'María', 'Sofia'])\n",
    "repetidos = goles.value_counts()\n",
    "print(\"Conteo de valores repetidos:\")\n",
    "print(repetidos)"
   ]
  },
  {
   "cell_type": "markdown",
   "metadata": {},
   "source": [
    "### Ejercicio 28\n",
    "#### Convertir el contenido de un objeto Series en formato CSV (Comma Separated Values)."
   ]
  },
  {
   "cell_type": "code",
   "execution_count": 53,
   "metadata": {},
   "outputs": [
    {
     "name": "stdout",
     "output_type": "stream",
     "text": [
      "La serie ha sido guardada a 'goles.csv'\n"
     ]
    }
   ],
   "source": [
    "goles3.to_csv('goles.csv', header=True)\n",
    "print(\"La serie ha sido guardada a 'goles.csv'\")"
   ]
  },
  {
   "cell_type": "markdown",
   "metadata": {},
   "source": [
    "### Ejercicio 29\n",
    "#### Aplicar una función sobre los elementos de un objeto Series."
   ]
  },
  {
   "cell_type": "code",
   "execution_count": 56,
   "metadata": {},
   "outputs": [
    {
     "name": "stdout",
     "output_type": "stream",
     "text": [
      "Goles originales:\n",
      "Juan      10\n",
      "Domi      15\n",
      "Gabri     22\n",
      "Javi      10\n",
      "Godino     8\n",
      "Alex      12\n",
      "Adrian    15\n",
      "Luis       0\n",
      "María     22\n",
      "Sofia     10\n",
      "dtype: int64\n",
      "\n",
      "Goles actualizados:\n",
      "Juan      13\n",
      "Domi      18\n",
      "Gabri     25\n",
      "Javi      13\n",
      "Godino    11\n",
      "Alex      15\n",
      "Adrian    18\n",
      "Luis       3\n",
      "María     25\n",
      "Sofia     13\n",
      "dtype: int64\n"
     ]
    }
   ],
   "source": [
    "def hat_trick(goles3):\n",
    "    return goles3 + 3\n",
    "\n",
    "print(\"Goles originales:\")\n",
    "print(goles3)\n",
    "\n",
    "goles31 = goles3.apply(hat_trick)\n",
    "print(\"\\nGoles actualizados:\")\n",
    "print(goles31)"
   ]
  },
  {
   "cell_type": "markdown",
   "metadata": {},
   "source": [
    "### Ejercicio 30\n",
    "#### Encontrar los elementos que están dentro de un rango."
   ]
  },
  {
   "cell_type": "code",
   "execution_count": 60,
   "metadata": {},
   "outputs": [
    {
     "name": "stdout",
     "output_type": "stream",
     "text": [
      "Serie original\n",
      "Juan      10\n",
      "Domi      15\n",
      "Gabri     22\n",
      "Javi      10\n",
      "Godino     8\n",
      "Alex      12\n",
      "Adrian    15\n",
      "Luis       0\n",
      "María     22\n",
      "Sofia     10\n",
      "dtype: int64\n",
      "\n",
      "Jugadores con goles entre 10 y 15:\n",
      "Juan    10\n",
      "Domi    15\n",
      "Alex    12\n",
      "dtype: int64\n"
     ]
    }
   ],
   "source": [
    "print(\"Serie original\")\n",
    "print(goles3)\n",
    "min_goles = 10\n",
    "max_goles = 17\n",
    "jugadores_dentro_rango = goles[(goles3 >= min_goles) & (goles3 <= max_goles)]\n",
    "print(\"\\nJugadores con goles entre 10 y 15:\")\n",
    "print(jugadores_dentro_rango)"
   ]
  },
  {
   "cell_type": "markdown",
   "metadata": {},
   "source": [
    "### Ejercicio 31\n",
    "#### Remover los valores duplicados de un objeto Series con drop_duplicates."
   ]
  },
  {
   "cell_type": "code",
   "execution_count": 62,
   "metadata": {},
   "outputs": [
    {
     "name": "stdout",
     "output_type": "stream",
     "text": [
      "Serie original de goles:\n",
      "Juan      10\n",
      "Domi      15\n",
      "Gabri     22\n",
      "Javi      10\n",
      "Godino     8\n",
      "Alex      12\n",
      "Adrian    15\n",
      "Luis       0\n",
      "María     22\n",
      "Sofia     10\n",
      "dtype: int64\n",
      "\n",
      "Serie sin valores duplicados:\n",
      "Juan      10\n",
      "Domi      15\n",
      "Gabri     22\n",
      "Godino     8\n",
      "Alex      12\n",
      "Luis       0\n",
      "dtype: int64\n"
     ]
    }
   ],
   "source": [
    "print(\"Serie original de goles:\")\n",
    "print(goles3)\n",
    "goles3 = goles3.drop_duplicates()\n",
    "print(\"\\nSerie sin valores duplicados:\")\n",
    "print(goles3)"
   ]
  },
  {
   "cell_type": "markdown",
   "metadata": {},
   "source": [
    "### Ejercicio 32\n",
    "#### Verificar con equals si dos series contienen los mismos elementos."
   ]
  },
  {
   "cell_type": "code",
   "execution_count": 68,
   "metadata": {},
   "outputs": [
    {
     "name": "stdout",
     "output_type": "stream",
     "text": [
      "Serie 1:\n",
      " Juan     10\n",
      "Domi     15\n",
      "Gabri    22\n",
      "Alex     12\n",
      "dtype: int64\n",
      "\n",
      "Serie 2:\n",
      " Juan      10.0\n",
      "Domi      15.0\n",
      "Gabri     22.0\n",
      "Javi       5.0\n",
      "Godino     8.0\n",
      "Alex      12.0\n",
      "Adrian     NaN\n",
      "dtype: float64\n",
      "\n",
      "Serie 3:\n",
      " Juan      10\n",
      "Domi      15\n",
      "Gabri     22\n",
      "Godino     8\n",
      "Alex      12\n",
      "Luis       0\n",
      "dtype: int64\n",
      "\n",
      "Serie 47:\n",
      " Juan     10\n",
      "Domi     15\n",
      "Gabri    22\n",
      "Alex     12\n",
      "dtype: int64\n",
      "goles es igual a goles2 False\n",
      "goles2 es igual a goles3 False\n",
      "¿goles3 es igual a goles False\n",
      "¿goles3 es igual a goles47 True\n"
     ]
    }
   ],
   "source": [
    "print(\"Serie 1:\\n\",goles)\n",
    "print(\"\\nSerie 2:\\n\",goles2)\n",
    "print(\"\\nSerie 3:\\n\",goles3)\n",
    "goles47 = goles\n",
    "print(\"\\nSerie 47:\\n\",goles47)\n",
    "print(\"goles es igual a goles2\", goles.equals(goles2))\n",
    "print(\"goles2 es igual a goles3\", goles2.equals(goles3))\n",
    "print(\"¿goles3 es igual a goles\", goles3.equals(goles))\n",
    "print(\"¿goles3 es igual a goles47\", goles.equals(goles47))"
   ]
  },
  {
   "cell_type": "markdown",
   "metadata": {},
   "source": [
    "### Ejercicio 33\n",
    "#### Elimina los outliers dentro de la lista del ejercicio de ejemplo de Pandas."
   ]
  },
  {
   "cell_type": "code",
   "execution_count": 77,
   "metadata": {},
   "outputs": [
    {
     "name": "stdout",
     "output_type": "stream",
     "text": [
      "True\n",
      "Temperaturas anómalas:\n",
      "20    49\n",
      "21     9\n",
      "Name: Temperatura, dtype: object\n"
     ]
    },
    {
     "data": {
      "image/png": "[encoded data removed]",
      "text/plain": [
       "<Figure size 640x480 with 1 Axes>"
      ]
     },
     "metadata": {},
     "output_type": "display_data"
    },
    {
     "name": "stdout",
     "output_type": "stream",
     "text": [
      "\n",
      "Eliminamos los outliners:\n",
      "\n"
     ]
    },
    {
     "data": {
      "image/png": "[encoded data removed]",
      "text/plain": [
       "<Figure size 640x480 with 1 Axes>"
      ]
     },
     "metadata": {},
     "output_type": "display_data"
    }
   ],
   "source": [
    "# Temperaturas promedio diarias en grados Celsius para un mes (30 días)\n",
    "temps = [22, 21, 23, 24, 26, 27, 29, 30, 33, 35, 34, 31, 30, 28, 27, 25, 24, 23, 22, 21, 49, 9, 20, 22, 23, 25, 28, 29, 31, 32, 33, 34,pd.NA]\n",
    "\n",
    "# Crear una Serie de Pandas\n",
    "temperature_series = pd.Series(temps, name=\"Temperatura\")\n",
    "\n",
    "# Comprobamos si hay nulos\n",
    "print(temperature_series.isnull().any())\n",
    "# En el caso de los hubiera los borramos\n",
    "if temperature_series.isnull().any():\n",
    "    temperature_series=temperature_series.dropna()\n",
    "\n",
    "#temperature_series.describe()\n",
    "\n",
    "max_temp = temperature_series.max()\n",
    "min_temp = temperature_series.min()\n",
    "\n",
    "#print(\"Temperatura máxima:\", max_temp)\n",
    "#print(\"Temperatura mínima:\", min_temp)\n",
    "\n",
    "mean_temp = temperature_series.mean()\n",
    "days_above_avg = temperature_series[temperature_series > mean_temp]\n",
    "\n",
    "#print(\"Días con temperaturas por encima del promedio:\")\n",
    "#print(days_above_avg)\n",
    "\n",
    "Q1 = temperature_series.quantile(0.25)\n",
    "Q3 = temperature_series.quantile(0.75)\n",
    "IQR = Q3 - Q1\n",
    "\n",
    "# Limites para identificar outliers\n",
    "lower_bound = Q1 - 1.5 * IQR\n",
    "upper_bound = Q3 + 1.5 * IQR\n",
    "\n",
    "outliers = temperature_series[(temperature_series < lower_bound) | (temperature_series > upper_bound)]\n",
    "\n",
    "print(\"Temperaturas anómalas:\")\n",
    "print(outliers)\n",
    "import matplotlib.pyplot as plt\n",
    "\n",
    "plt.plot(temperature_series, marker='o')\n",
    "plt.title(\"Temperaturas promedio diarias durante el mes\")\n",
    "plt.xlabel(\"Día\")\n",
    "plt.ylabel(\"Temperatura (°C)\")\n",
    "plt.axhline(mean_temp, color='red', linestyle='--', label='Promedio')\n",
    "plt.legend()\n",
    "plt.show()\n",
    "\n",
    "print(\"\\nEliminamos los outliners:\\n\")\n",
    "sinoutliners_temperature_series = temperature_series[(temperature_series >= lower_bound) & (temperature_series <= upper_bound)]\n",
    "plt.plot(sinoutliners_temperature_series, marker='o')\n",
    "plt.title(\"Temperaturas promedio diarias durante el mes (sin outliers)\")\n",
    "plt.xlabel(\"Día\")\n",
    "plt.ylabel(\"Temperatura (°C)\")\n",
    "plt.axhline(sinoutliners_temperature_series.mean(), color='green', linestyle='--', label='Promedio')\n",
    "plt.legend()\n",
    "plt.show()"
   ]
  }
 ],
 "metadata": {
  "kernelspec": {
   "display_name": "base",
   "language": "python",
   "name": "python3"
  },
  "language_info": {
   "codemirror_mode": {
    "name": "ipython",
    "version": 3
   },
   "file_extension": ".py",
   "mimetype": "text/x-python",
   "name": "python",
   "nbconvert_exporter": "python",
   "pygments_lexer": "ipython3",
   "version": "3.12.7"
  }
 },
 "nbformat": 4,
 "nbformat_minor": 2
}
